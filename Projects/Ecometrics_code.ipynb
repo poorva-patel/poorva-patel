{
 "cells": [
  {
   "cell_type": "markdown",
   "id": "e4871625-fef8-4530-828d-93ab69529384",
   "metadata": {},
   "source": [
    "# Ecometrics\n",
    "\n",
    "Name: Poorva\n",
    "</br>\n",
    "Date: 4/25/24"
   ]
  },
  {
   "cell_type": "code",
   "execution_count": 20,
   "id": "591be926-1838-4d0c-a8be-81fc7f41328e",
   "metadata": {
    "tags": [],
    "vscode": {
     "languageId": "r"
    }
   },
   "outputs": [
    {
     "name": "stderr",
     "output_type": "stream",
     "text": [
      "── \u001b[1mAttaching core tidyverse packages\u001b[22m ──────────────────────── tidyverse 2.0.0 ──\n",
      "\u001b[32m✔\u001b[39m \u001b[34mdplyr    \u001b[39m 1.1.4     \u001b[32m✔\u001b[39m \u001b[34mreadr    \u001b[39m 2.1.5\n",
      "\u001b[32m✔\u001b[39m \u001b[34mforcats  \u001b[39m 1.0.0     \u001b[32m✔\u001b[39m \u001b[34mstringr  \u001b[39m 1.5.1\n",
      "\u001b[32m✔\u001b[39m \u001b[34mlubridate\u001b[39m 1.9.3     \u001b[32m✔\u001b[39m \u001b[34mtibble   \u001b[39m 3.2.1\n",
      "\u001b[32m✔\u001b[39m \u001b[34mpurrr    \u001b[39m 1.0.2     \u001b[32m✔\u001b[39m \u001b[34mtidyr    \u001b[39m 1.3.0\n",
      "── \u001b[1mConflicts\u001b[22m ────────────────────────────────────────── tidyverse_conflicts() ──\n",
      "\u001b[31m✖\u001b[39m \u001b[34mdplyr\u001b[39m::\u001b[32mfilter()\u001b[39m masks \u001b[34mstats\u001b[39m::filter()\n",
      "\u001b[31m✖\u001b[39m \u001b[34mdplyr\u001b[39m::\u001b[32mlag()\u001b[39m    masks \u001b[34mstats\u001b[39m::lag()\n",
      "\u001b[36mℹ\u001b[39m Use the conflicted package (\u001b[3m\u001b[34m<http://conflicted.r-lib.org/>\u001b[39m\u001b[23m) to force all conflicts to become errors\n"
     ]
    }
   ],
   "source": [
    "#Load in necessary libraries\n",
    "library(DBI)\n",
    "library(RMariaDB)\n",
    "library(RSQLite)\n",
    "library(ggplot2)\n",
    "library(tidyverse)"
   ]
  },
  {
   "cell_type": "code",
   "execution_count": 13,
   "id": "4c0304d9-3487-4751-aeea-b246c1945988",
   "metadata": {
    "tags": [],
    "vscode": {
     "languageId": "r"
    }
   },
   "outputs": [
    {
     "data": {
      "text/html": [
       "0"
      ],
      "text/latex": [
       "0"
      ],
      "text/markdown": [
       "0"
      ],
      "text/plain": [
       "[1] 0"
      ]
     },
     "metadata": {},
     "output_type": "display_data"
    }
   ],
   "source": [
    "#Connecting to database\n",
    "localuserpassword <- \"DSSA2003*\" \n",
    "localport <- 3306 \n",
    "dbname <- \"warehousing\" \n",
    "\n",
    "#Connect to the server using MariaDB()\n",
    "con <- dbConnect(RMariaDB::MariaDB(), \n",
    "                 host = 'localhost',\n",
    "                 user = 'root',\n",
    "                 password = localuserpassword,\n",
    "                 port = localport)\n",
    "dbExecute(con, paste(\"USE\", dbname))"
   ]
  },
  {
   "cell_type": "code",
   "execution_count": 11,
   "id": "d5ac6bbb-db4d-4dc5-8a41-937924e30ccd",
   "metadata": {
    "tags": [],
    "vscode": {
     "languageId": "r"
    }
   },
   "outputs": [
    {
     "data": {
      "text/html": [
       "<style>\n",
       ".list-inline {list-style: none; margin:0; padding: 0}\n",
       ".list-inline>li {display: inline-block}\n",
       ".list-inline>li:not(:last-child)::after {content: \"\\00b7\"; padding: 0 .5ex}\n",
       "</style>\n",
       "<ol class=list-inline><li>'food_product'</li><li>'land_use_change'</li><li>'animal_feed'</li><li>'farm'</li><li>'processing'</li><li>'transport'</li><li>'packging'</li><li>'retail'</li><li>'total_emissions'</li><li>'eutrophying_emissions_1000kcal'</li><li>'eutrophying_emissions_kilogram'</li><li>'eutrophying_emissions_100gprotein'</li><li>'eutrophying_emissions_total'</li><li>'freshwater_withdrawals_1000kcal'</li><li>'freshwater_withdrawals_100gprotein'</li><li>'freshwater_withdrawals_kilogram'</li><li>'freshwater_withdrawals_total'</li><li>'greenhouse_emissions_1000kcal'</li><li>'greenhouse_emissions_100gprotein'</li><li>'greenhouse_emissions_total'</li><li>'land_use_1000kcal'</li><li>'land_use_kilogram'</li><li>'land_use_100gprotein'</li><li>'land_use_total'</li><li>'scarcity_weighted_water_kilogram'</li><li>'scarcity_weighted_water_100gprotein'</li><li>'scarcity_weighted_water_1000kcal'</li><li>'scarcity_weighted_water_total'</li></ol>\n"
      ],
      "text/latex": [
       "\\begin{enumerate*}\n",
       "\\item 'food\\_product'\n",
       "\\item 'land\\_use\\_change'\n",
       "\\item 'animal\\_feed'\n",
       "\\item 'farm'\n",
       "\\item 'processing'\n",
       "\\item 'transport'\n",
       "\\item 'packging'\n",
       "\\item 'retail'\n",
       "\\item 'total\\_emissions'\n",
       "\\item 'eutrophying\\_emissions\\_1000kcal'\n",
       "\\item 'eutrophying\\_emissions\\_kilogram'\n",
       "\\item 'eutrophying\\_emissions\\_100gprotein'\n",
       "\\item 'eutrophying\\_emissions\\_total'\n",
       "\\item 'freshwater\\_withdrawals\\_1000kcal'\n",
       "\\item 'freshwater\\_withdrawals\\_100gprotein'\n",
       "\\item 'freshwater\\_withdrawals\\_kilogram'\n",
       "\\item 'freshwater\\_withdrawals\\_total'\n",
       "\\item 'greenhouse\\_emissions\\_1000kcal'\n",
       "\\item 'greenhouse\\_emissions\\_100gprotein'\n",
       "\\item 'greenhouse\\_emissions\\_total'\n",
       "\\item 'land\\_use\\_1000kcal'\n",
       "\\item 'land\\_use\\_kilogram'\n",
       "\\item 'land\\_use\\_100gprotein'\n",
       "\\item 'land\\_use\\_total'\n",
       "\\item 'scarcity\\_weighted\\_water\\_kilogram'\n",
       "\\item 'scarcity\\_weighted\\_water\\_100gprotein'\n",
       "\\item 'scarcity\\_weighted\\_water\\_1000kcal'\n",
       "\\item 'scarcity\\_weighted\\_water\\_total'\n",
       "\\end{enumerate*}\n"
      ],
      "text/markdown": [
       "1. 'food_product'\n",
       "2. 'land_use_change'\n",
       "3. 'animal_feed'\n",
       "4. 'farm'\n",
       "5. 'processing'\n",
       "6. 'transport'\n",
       "7. 'packging'\n",
       "8. 'retail'\n",
       "9. 'total_emissions'\n",
       "10. 'eutrophying_emissions_1000kcal'\n",
       "11. 'eutrophying_emissions_kilogram'\n",
       "12. 'eutrophying_emissions_100gprotein'\n",
       "13. 'eutrophying_emissions_total'\n",
       "14. 'freshwater_withdrawals_1000kcal'\n",
       "15. 'freshwater_withdrawals_100gprotein'\n",
       "16. 'freshwater_withdrawals_kilogram'\n",
       "17. 'freshwater_withdrawals_total'\n",
       "18. 'greenhouse_emissions_1000kcal'\n",
       "19. 'greenhouse_emissions_100gprotein'\n",
       "20. 'greenhouse_emissions_total'\n",
       "21. 'land_use_1000kcal'\n",
       "22. 'land_use_kilogram'\n",
       "23. 'land_use_100gprotein'\n",
       "24. 'land_use_total'\n",
       "25. 'scarcity_weighted_water_kilogram'\n",
       "26. 'scarcity_weighted_water_100gprotein'\n",
       "27. 'scarcity_weighted_water_1000kcal'\n",
       "28. 'scarcity_weighted_water_total'\n",
       "\n",
       "\n"
      ],
      "text/plain": [
       " [1] \"food_product\"                        \"land_use_change\"                    \n",
       " [3] \"animal_feed\"                         \"farm\"                               \n",
       " [5] \"processing\"                          \"transport\"                          \n",
       " [7] \"packging\"                            \"retail\"                             \n",
       " [9] \"total_emissions\"                     \"eutrophying_emissions_1000kcal\"     \n",
       "[11] \"eutrophying_emissions_kilogram\"      \"eutrophying_emissions_100gprotein\"  \n",
       "[13] \"eutrophying_emissions_total\"         \"freshwater_withdrawals_1000kcal\"    \n",
       "[15] \"freshwater_withdrawals_100gprotein\"  \"freshwater_withdrawals_kilogram\"    \n",
       "[17] \"freshwater_withdrawals_total\"        \"greenhouse_emissions_1000kcal\"      \n",
       "[19] \"greenhouse_emissions_100gprotein\"    \"greenhouse_emissions_total\"         \n",
       "[21] \"land_use_1000kcal\"                   \"land_use_kilogram\"                  \n",
       "[23] \"land_use_100gprotein\"                \"land_use_total\"                     \n",
       "[25] \"scarcity_weighted_water_kilogram\"    \"scarcity_weighted_water_100gprotein\"\n",
       "[27] \"scarcity_weighted_water_1000kcal\"    \"scarcity_weighted_water_total\"      "
      ]
     },
     "metadata": {},
     "output_type": "display_data"
    }
   ],
   "source": [
    "#Preview the dataframe. \n",
    "food <- read.csv(\"cleaned_food.csv\")\n",
    "colnames(food)"
   ]
  },
  {
   "cell_type": "code",
   "execution_count": null,
   "id": "f688efd2-4c4b-46fe-9083-8c6e2f1a0c86",
   "metadata": {
    "vscode": {
     "languageId": "r"
    }
   },
   "outputs": [],
   "source": [
    "#Create our first table\n",
    "first_table_query <- \"CREATE TABLE food_data (\n",
    "                      food_product CHAR(30) PRIMARY KEY,\n",
    "                      total_emissions DECIMAL(3,1)\n",
    "                                              );\"\n",
    "#Execute the query:\n",
    "dbExecute(con, first_table_query)"
   ]
  },
  {
   "cell_type": "code",
   "execution_count": null,
   "id": "76bfc5ea-15c0-4126-adf8-948a10399321",
   "metadata": {
    "vscode": {
     "languageId": "r"
    }
   },
   "outputs": [],
   "source": [
    "#Table name\n",
    "table_name <- \"food_data\"\n",
    "\n",
    "#Write a query that will show the column names from the table\n",
    "query <- paste(\"SHOW COLUMNS FROM\", table_name)\n",
    "\n",
    "#Get the query and retrieve the column/field names from the database(con)\n",
    "db_columns <- dbGetQuery(con, query)$Field\n",
    "\n",
    "#Define the common columns between the CSV data (Column names) and the database (Table fields)\n",
    "common_columns <- intersect(colnames(food), db_columns)\n",
    "\n",
    "#These are the ONLY columns that we will transfer into the table.\n",
    "common_columns"
   ]
  },
  {
   "cell_type": "code",
   "execution_count": null,
   "id": "ec80b746-bd90-4b11-a9db-1483059f1260",
   "metadata": {
    "vscode": {
     "languageId": "r"
    }
   },
   "outputs": [],
   "source": [
    "#Create a subset of the original .csv data with only the specified column names.\n",
    "food_data_subset <- food[, common_columns]"
   ]
  },
  {
   "cell_type": "code",
   "execution_count": null,
   "id": "f96d4dec-2938-418d-93df-8e54c595a0a2",
   "metadata": {
    "vscode": {
     "languageId": "r"
    }
   },
   "outputs": [],
   "source": [
    "#Populate table\n",
    "dbWriteTable(con,\"food_data\", food_data_subset, append = TRUE, row.names = FALSE)"
   ]
  },
  {
   "cell_type": "code",
   "execution_count": null,
   "id": "5672b28d-63b9-4d94-8ea7-09790346531c",
   "metadata": {
    "vscode": {
     "languageId": "r"
    }
   },
   "outputs": [],
   "source": [
    "#Create second table\n",
    "second_table_query <- \"CREATE TABLE Emissions (\n",
    "                      food_product CHAR(30),\n",
    "                      land_use_change DECIMAL(3,1),\n",
    "                      animal_feed DECIMAL (3,1),\n",
    "                      farm DECIMAL (3,1),\n",
    "                      processing DECIMAL (3,1),\n",
    "                      transport DECIMAL (3,1),\n",
    "                      packaging DECIMAL (3,1),\n",
    "                      retail DECIMAL (3,1),\n",
    "                      greenhouse_emissions_1000kcal DECIMAL (8,3),\n",
    "                      greenhouse_emissions_100gprotein DECIMAL (8,3),\n",
    "                      greenhouse_emissions_total DECIMAL (8,3),\n",
    "                      eutrophying_emissions_1000kcal DECIMAL (8,3),\n",
    "                      eutrophying_emissions_kilogram DECIMAL (8,3),\n",
    "                      eutrophying_emissions_100gprotein DECIMAL (8,3),\n",
    "                      eutrophying_emissions_total DECIMAL (8,3),\n",
    "                      FOREIGN KEY (food_product) REFERENCES food_data(food_product)\n",
    "                                              );\"\n",
    "#Execute the query:\n",
    "dbExecute(con, second_table_query)"
   ]
  },
  {
   "cell_type": "code",
   "execution_count": null,
   "id": "cc71e51f-b809-4aaf-8373-7a6e7d2b7d89",
   "metadata": {
    "vscode": {
     "languageId": "r"
    }
   },
   "outputs": [],
   "source": [
    "#Create third table\n",
    "third_table_query <- \"CREATE TABLE Water_usage (\n",
    "                      food_product CHAR(30),\n",
    "                      freshwater_withdrawals_1000kcal DECIMAL (8,3),\n",
    "                      freshwater_withdrawals_100gprotein DECIMAL (8,3),                     \n",
    "                      freshwater_withdrawals_kilogram DECIMAL (8,3),\n",
    "                      freshwater_withdrawals_total DECIMAL (8,3),\n",
    "                      scarcity_weighted_water_kilogram DECIMAL (10,3),\n",
    "                      scarcity_weighted_water_100gprotein DECIMAL (10,3),\n",
    "                      scarcity_weighted_water_1000kcal DECIMAL (10,3),\n",
    "                      scarcity_weighted_water_total DECIMAL (10,3),\n",
    "                      FOREIGN KEY (food_product) REFERENCES food_data(food_product)\n",
    "                                              );\"\n",
    "#Execute the query:\n",
    "dbExecute(con, third_table_query)"
   ]
  },
  {
   "cell_type": "code",
   "execution_count": null,
   "id": "359b3575-c354-4ce5-97fa-712d61d84f0e",
   "metadata": {
    "vscode": {
     "languageId": "r"
    }
   },
   "outputs": [],
   "source": [
    "#Create fourth table\n",
    "fourth_table_query <- \"CREATE TABLE Land_use (\n",
    "                      food_product CHAR(30),\n",
    "                      land_use_1000kcal DECIMAL (8,3),\n",
    "                      land_use_kilogram DECIMAL (8,3), \n",
    "                      land_use_100gprotein DECIMAL (8,3),\n",
    "                      land_use_total DECIMAL (8,3),\n",
    "                      FOREIGN KEY (food_product) REFERENCES food_data(food_product)\n",
    "                                              );\"\n",
    "#Execute the query:\n",
    "dbExecute(con, fourth_table_query)"
   ]
  },
  {
   "cell_type": "code",
   "execution_count": null,
   "id": "9a3662a0-e514-4386-a997-0fb5702ffee7",
   "metadata": {
    "vscode": {
     "languageId": "r"
    }
   },
   "outputs": [],
   "source": [
    "#Table2\n",
    "table2 <- \"Emissions\"\n",
    "\n",
    "#Write a query that will show the column names from the table we created\n",
    "query <- paste(\"SHOW COLUMNS FROM\", table2)\n",
    "\n",
    "#Get the query and retrieve the column/field names from the database(con)\n",
    "db_columns2 <- dbGetQuery(con, query)$Field\n",
    "\n",
    "#Define the common columns between the CSV data (Column names) and the database (Table fields)\n",
    "common_columns2 <- intersect(colnames(food), db_columns2)\n",
    "\n",
    "##Table 3\n",
    "table3 <- \"Water_usage\"\n",
    "query <- paste(\"SHOW COLUMNS FROM\", table3)\n",
    "db_columns3 <- dbGetQuery(con, query)$Field\n",
    "common_columns3 <- intersect(colnames(food), db_columns3)\n",
    "\n",
    "###Table 4\n",
    "table4 <- \"Land_use\"\n",
    "query <- paste(\"SHOW COLUMNS FROM\", table4)\n",
    "db_columns4 <- dbGetQuery(con, query)$Field\n",
    "common_columns4 <- intersect(colnames(food), db_columns4)"
   ]
  },
  {
   "cell_type": "code",
   "execution_count": null,
   "id": "11a1bb4c-62cf-4225-8969-460be638ca96",
   "metadata": {
    "vscode": {
     "languageId": "r"
    }
   },
   "outputs": [],
   "source": [
    "#Create subsets of the original .csv data with only the specified column names.\n",
    "food_data_subset2 <- food[, common_columns2]\n",
    "food_data_subset3 <- food[, common_columns3]\n",
    "food_data_subset4 <- food[, common_columns4]"
   ]
  },
  {
   "cell_type": "code",
   "execution_count": null,
   "id": "8256c67d-1cc6-4144-9e12-d98bf29df8b7",
   "metadata": {
    "vscode": {
     "languageId": "r"
    }
   },
   "outputs": [],
   "source": [
    "#populate table via df\n",
    "dbWriteTable(con,\"Emissions\", food_data_subset2, append = TRUE, row.names = FALSE)\n",
    "dbWriteTable(con,\"Water_usage\", food_data_subset3, append = TRUE, row.names = FALSE)\n",
    "dbWriteTable(con,\"Land_use\", food_data_subset4, append = TRUE, row.names = FALSE)"
   ]
  },
  {
   "cell_type": "code",
   "execution_count": 14,
   "id": "bcd4231c-c58c-48a5-a58e-9a5676185eb0",
   "metadata": {
    "tags": [],
    "vscode": {
     "languageId": "r"
    }
   },
   "outputs": [
    {
     "data": {
      "text/html": [
       "<table class=\"dataframe\">\n",
       "<caption>A data.frame: 1 × 4</caption>\n",
       "<thead>\n",
       "\t<tr><th scope=col>food_product</th><th scope=col>total_emissions</th><th scope=col>freshwater_withdrawals_kilogram</th><th scope=col>transport</th></tr>\n",
       "\t<tr><th scope=col>&lt;chr&gt;</th><th scope=col>&lt;dbl&gt;</th><th scope=col>&lt;dbl&gt;</th><th scope=col>&lt;dbl&gt;</th></tr>\n",
       "</thead>\n",
       "<tbody>\n",
       "\t<tr><td>Cane Sugar</td><td>2.6</td><td>620.1</td><td>0.8</td></tr>\n",
       "</tbody>\n",
       "</table>\n"
      ],
      "text/latex": [
       "A data.frame: 1 × 4\n",
       "\\begin{tabular}{llll}\n",
       " food\\_product & total\\_emissions & freshwater\\_withdrawals\\_kilogram & transport\\\\\n",
       " <chr> & <dbl> & <dbl> & <dbl>\\\\\n",
       "\\hline\n",
       "\t Cane Sugar & 2.6 & 620.1 & 0.8\\\\\n",
       "\\end{tabular}\n"
      ],
      "text/markdown": [
       "\n",
       "A data.frame: 1 × 4\n",
       "\n",
       "| food_product &lt;chr&gt; | total_emissions &lt;dbl&gt; | freshwater_withdrawals_kilogram &lt;dbl&gt; | transport &lt;dbl&gt; |\n",
       "|---|---|---|---|\n",
       "| Cane Sugar | 2.6 | 620.1 | 0.8 |\n",
       "\n"
      ],
      "text/plain": [
       "  food_product total_emissions freshwater_withdrawals_kilogram transport\n",
       "1 Cane Sugar   2.6             620.1                           0.8      "
      ]
     },
     "metadata": {},
     "output_type": "display_data"
    }
   ],
   "source": [
    "#Example analysis 1\n",
    "## What food product has the highest transport emissions and water withdrawls? \n",
    "analysis <- dbGetQuery(con, \"SELECT \n",
    "                           food_data.food_product,\n",
    "                           food_data.total_emissions,\n",
    "                           Water_usage.freshwater_withdrawals_kilogram,\n",
    "                           Emissions.transport\n",
    "                         FROM \n",
    "                           food_data \n",
    "                         LEFT JOIN \n",
    "                           Water_usage ON food_data.food_product = Water_usage.food_product\n",
    "                         LEFT JOIN \n",
    "                           Emissions ON food_data.food_product = Emissions.food_product\n",
    "                         ORDER BY \n",
    "                           Emissions.transport DESC,\n",
    "                           Water_usage.freshwater_withdrawals_kilogram DESC\n",
    "                         LIMIT 1\n",
    "                                \")\n",
    "analysis"
   ]
  },
  {
   "cell_type": "code",
   "execution_count": 30,
   "id": "fd7a028b-a67e-4633-9cfb-607a290da849",
   "metadata": {
    "tags": [],
    "vscode": {
     "languageId": "r"
    }
   },
   "outputs": [
    {
     "data": {
      "text/html": [
       "<table class=\"dataframe\">\n",
       "<caption>A data.frame: 1 × 6</caption>\n",
       "<thead>\n",
       "\t<tr><th scope=col>food_product</th><th scope=col>land_use_total</th><th scope=col>greenhouse_emissions_total</th><th scope=col>eutrophying_emissions_total</th><th scope=col>freshwater_withdrawals_total</th><th scope=col>scarcity_weighted_water_total</th></tr>\n",
       "\t<tr><th scope=col>&lt;chr&gt;</th><th scope=col>&lt;dbl&gt;</th><th scope=col>&lt;dbl&gt;</th><th scope=col>&lt;dbl&gt;</th><th scope=col>&lt;dbl&gt;</th><th scope=col>&lt;dbl&gt;</th></tr>\n",
       "</thead>\n",
       "<tbody>\n",
       "\t<tr><td>Lamb and Mutton</td><td>671.282</td><td>32.38</td><td>176.311</td><td>3272.456</td><td>257623.3</td></tr>\n",
       "</tbody>\n",
       "</table>\n"
      ],
      "text/latex": [
       "A data.frame: 1 × 6\n",
       "\\begin{tabular}{llllll}\n",
       " food\\_product & land\\_use\\_total & greenhouse\\_emissions\\_total & eutrophying\\_emissions\\_total & freshwater\\_withdrawals\\_total & scarcity\\_weighted\\_water\\_total\\\\\n",
       " <chr> & <dbl> & <dbl> & <dbl> & <dbl> & <dbl>\\\\\n",
       "\\hline\n",
       "\t Lamb and Mutton & 671.282 & 32.38 & 176.311 & 3272.456 & 257623.3\\\\\n",
       "\\end{tabular}\n"
      ],
      "text/markdown": [
       "\n",
       "A data.frame: 1 × 6\n",
       "\n",
       "| food_product &lt;chr&gt; | land_use_total &lt;dbl&gt; | greenhouse_emissions_total &lt;dbl&gt; | eutrophying_emissions_total &lt;dbl&gt; | freshwater_withdrawals_total &lt;dbl&gt; | scarcity_weighted_water_total &lt;dbl&gt; |\n",
       "|---|---|---|---|---|---|\n",
       "| Lamb and Mutton | 671.282 | 32.38 | 176.311 | 3272.456 | 257623.3 |\n",
       "\n"
      ],
      "text/plain": [
       "  food_product    land_use_total greenhouse_emissions_total\n",
       "1 Lamb and Mutton 671.282        32.38                     \n",
       "  eutrophying_emissions_total freshwater_withdrawals_total\n",
       "1 176.311                     3272.456                    \n",
       "  scarcity_weighted_water_total\n",
       "1 257623.3                     "
      ]
     },
     "metadata": {},
     "output_type": "display_data"
    },
    {
     "data": {
      "image/png": "[encoded data removed]",
      "text/plain": [
       "plot without title"
      ]
     },
     "metadata": {
      "image/png": {
       "height": 420,
       "width": 420
      }
     },
     "output_type": "display_data"
    }
   ],
   "source": [
    "#Example Analysis 2\n",
    "highestImpactQuery <- dbGetQuery(con, \"\n",
    "  SELECT      \n",
    "    food_data.food_product, \n",
    "    Land_use.land_use_total,\n",
    "    Emissions.greenhouse_emissions_total,\n",
    "    Emissions.eutrophying_emissions_total,\n",
    "    Water_usage.freshwater_withdrawals_total,\n",
    "    Water_usage.scarcity_weighted_water_total\n",
    "  FROM \n",
    "    food_data\n",
    "  LEFT JOIN \n",
    "    Land_use ON food_data.food_product = Land_use.food_product\n",
    "  LEFT JOIN \n",
    "    Emissions ON food_data.food_product = Emissions.food_product\n",
    "  LEFT JOIN \n",
    "    Water_usage ON food_data.food_product = Water_usage.food_product\n",
    "  ORDER BY \n",
    "    Land_use.land_use_total DESC,\n",
    "    Emissions.greenhouse_emissions_total DESC,\n",
    "    Emissions.eutrophying_emissions_total DESC,\n",
    "    Water_usage.freshwater_withdrawals_total DESC,\n",
    "    Water_usage.scarcity_weighted_water_total DESC\n",
    "  LIMIT 1\n",
    "\")\n",
    "highestImpactQuery\n",
    "\n",
    "\n",
    "##Example Analysis 2 Graph\n",
    "\n",
    "#Get rid of scientific notaion\n",
    "options(scipen = 999)\n",
    "\n",
    "#Convert value\n",
    "highestImpactLong <- highestImpactQuery %>%\n",
    "  pivot_longer(cols = -food_product, names_to = \"ImpactCategory\", values_to = \"Value\")\n",
    "\n",
    "# Now, create the bar chart using ggplot2\n",
    "ggplot(highestImpactLong, aes(x = ImpactCategory, y = Value, fill = ImpactCategory)) +\n",
    "  geom_col() +  \n",
    "  theme_minimal() +\n",
    "  labs(title = paste(\"Environmental Impact of Lamb & Mutton\", highestImpactQuery$food_product),\n",
    "       x = NULL , #x label\n",
    "       y = \"Emissions\" ) +    \n",
    "  scale_fill_brewer(palette = \"Set3\") +\n",
    "  theme(axis.text.x = element_text(angle = 45, hjust = 1),  # Rotate x-axis labels for readability\n",
    "        panel.grid.major = element_blank(),                 # Removes major gridlines\n",
    "        panel.grid.minor = element_blank())                 # Removes minor gridlines\n"
   ]
  },
  {
   "cell_type": "code",
   "execution_count": 23,
   "id": "a19e7ad4-6dd5-43f0-aba6-16a6b2ebefbe",
   "metadata": {
    "tags": [],
    "vscode": {
     "languageId": "r"
    }
   },
   "outputs": [
    {
     "data": {
      "text/html": [
       "<table class=\"dataframe\">\n",
       "<caption>A data.frame: 5 × 2</caption>\n",
       "<thead>\n",
       "\t<tr><th scope=col>food_product</th><th scope=col>land_use_total</th></tr>\n",
       "\t<tr><th scope=col>&lt;chr&gt;</th><th scope=col>&lt;dbl&gt;</th></tr>\n",
       "</thead>\n",
       "<tbody>\n",
       "\t<tr><td>Lamb and Mutton   </td><td>671.282</td></tr>\n",
       "\t<tr><td>Beef  (beef  herd)</td><td>609.297</td></tr>\n",
       "\t<tr><td>Dark Chocolate    </td><td>220.218</td></tr>\n",
       "\t<tr><td>Cheese            </td><td>150.235</td></tr>\n",
       "\t<tr><td>Coffee            </td><td> 87.252</td></tr>\n",
       "</tbody>\n",
       "</table>\n"
      ],
      "text/latex": [
       "A data.frame: 5 × 2\n",
       "\\begin{tabular}{ll}\n",
       " food\\_product & land\\_use\\_total\\\\\n",
       " <chr> & <dbl>\\\\\n",
       "\\hline\n",
       "\t Lamb and Mutton    & 671.282\\\\\n",
       "\t Beef  (beef  herd) & 609.297\\\\\n",
       "\t Dark Chocolate     & 220.218\\\\\n",
       "\t Cheese             & 150.235\\\\\n",
       "\t Coffee             &  87.252\\\\\n",
       "\\end{tabular}\n"
      ],
      "text/markdown": [
       "\n",
       "A data.frame: 5 × 2\n",
       "\n",
       "| food_product &lt;chr&gt; | land_use_total &lt;dbl&gt; |\n",
       "|---|---|\n",
       "| Lamb and Mutton    | 671.282 |\n",
       "| Beef  (beef  herd) | 609.297 |\n",
       "| Dark Chocolate     | 220.218 |\n",
       "| Cheese             | 150.235 |\n",
       "| Coffee             |  87.252 |\n",
       "\n"
      ],
      "text/plain": [
       "  food_product       land_use_total\n",
       "1 Lamb and Mutton    671.282       \n",
       "2 Beef  (beef  herd) 609.297       \n",
       "3 Dark Chocolate     220.218       \n",
       "4 Cheese             150.235       \n",
       "5 Coffee              87.252       "
      ]
     },
     "metadata": {},
     "output_type": "display_data"
    },
    {
     "data": {
      "image/png": "[encoded data removed]",
      "text/plain": [
       "plot without title"
      ]
     },
     "metadata": {
      "image/png": {
       "height": 420,
       "width": 420
      }
     },
     "output_type": "display_data"
    }
   ],
   "source": [
    "#Example Analysis 3\n",
    "land <- dbGetQuery(con, \"SELECT \n",
    "                             food_product,\n",
    "                             land_use_total\n",
    "                           FROM \n",
    "                             Land_use\n",
    "                           ORDER BY \n",
    "                             land_use_total DESC\n",
    "                           LIMIT 5\n",
    "                          \")\n",
    "land\n",
    "\n",
    "##Example Analysis 3 Graph\n",
    "\n",
    "ggplot(land, aes(x = reorder(food_product, land_use_total), y = land_use_total, fill = food_product)) +\n",
    "  geom_bar(stat = \"identity\") +\n",
    "  theme_minimal() +\n",
    "  labs(title = NULL,\n",
    "       x = NULL,\n",
    "       y = \"Total Land Use\") +\n",
    "  scale_fill_brewer(palette = \"Set3\") +\n",
    "  theme(\n",
    "    legend.position = \"none\",\n",
    "    axis.text.x = element_text(angle = 45, hjust = 1),\n",
    "    panel.grid.major = element_blank(),\n",
    "    panel.grid.minor = element_blank()\n",
    "  )"
   ]
  },
  {
   "cell_type": "code",
   "execution_count": null,
   "id": "07a01fb2-1dc4-4b8d-815a-cfcf99d13885",
   "metadata": {
    "vscode": {
     "languageId": "r"
    }
   },
   "outputs": [],
   "source": [
    "#Close the database connection \n",
    "dbDisconnect(con)"
   ]
  }
 ],
 "metadata": {
  "kernelspec": {
   "display_name": "R",
   "language": "R",
   "name": "ir"
  },
  "language_info": {
   "codemirror_mode": "r",
   "file_extension": ".r",
   "mimetype": "text/x-r-source",
   "name": "R",
   "pygments_lexer": "r",
   "version": "4.3.2"
  }
 },
 "nbformat": 4,
 "nbformat_minor": 5
}
