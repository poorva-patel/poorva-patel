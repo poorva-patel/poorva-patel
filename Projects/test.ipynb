{
 "cells": [
  {
   "cell_type": "code",
   "execution_count": 2,
   "id": "991ec40f-bfde-4cf9-b9f0-b9cf6c6545ce",
   "metadata": {
    "tags": []
   },
   "outputs": [],
   "source": [
    "# import libraries and packages\n",
    "import pandas as pd\n",
    "import numpy as np\n",
    "from sklearn.preprocessing import StandardScaler\n",
    "from sklearn.model_selection import train_test_split\n",
    "from sklearn.linear_model import LinearRegression\n",
    "from sklearn.metrics import mean_squared_error, r2_score\n",
    "from sklearn.model_selection import cross_val_score\n",
    "import pickle"
   ]
  },
  {
   "cell_type": "code",
   "execution_count": 4,
   "id": "2b6d9f00-7daa-44bf-9338-57f421ed1ca0",
   "metadata": {
    "tags": []
   },
   "outputs": [],
   "source": [
    "cancer = pd.read_csv('cancer.csv', encoding='ISO-8859-1')"
   ]
  },
  {
   "cell_type": "code",
   "execution_count": 8,
   "id": "8855fdc2-49d4-4c2b-9945-491f88ce5746",
   "metadata": {
    "tags": []
   },
   "outputs": [],
   "source": [
    "print(cancer.columns)"
   ]
  },
  {
   "cell_type": "code",
   "execution_count": 12,
   "id": "642e69d2-e6f7-4a68-88bc-4b6511106e4c",
   "metadata": {
    "tags": []
   },
   "outputs": [],
   "source": [
    "features = cancer[['MedianAge', 'PctAsian', 'medIncome']]\n"
   ]
  },
  {
   "cell_type": "code",
   "execution_count": 13,
   "id": "14c580b3-b4bd-4410-8fb0-d32ebf4d9b6d",
   "metadata": {
    "tags": []
   },
   "outputs": [],
   "source": [
    "features_list = features.values.tolist()\n"
   ]
  },
  {
   "cell_type": "code",
   "execution_count": 14,
   "id": "ee1d8388-3d58-429b-a0ec-69b180a37a47",
   "metadata": {
    "tags": []
   },
   "outputs": [
    {
     "name": "stdout",
     "output_type": "stream",
     "text": [
      "{\"features\": [39.3, 4.821857102, 61898.0]}\n"
     ]
    }
   ],
   "source": [
    "import json\n",
    "\n",
    "# Create a sample payload\n",
    "sample_payload = json.dumps({\"features\": features_list[0]})  \n",
    "print(sample_payload)"
   ]
  },
  {
   "cell_type": "code",
   "execution_count": null,
   "id": "a08ce2ac-966e-4577-a9b1-6566987b544d",
   "metadata": {},
   "outputs": [],
   "source": []
  }
 ],
 "metadata": {
  "kernelspec": {
   "display_name": "Python 3 (ipykernel)",
   "language": "python",
   "name": "python3"
  },
  "language_info": {
   "codemirror_mode": {
    "name": "ipython",
    "version": 3
   },
   "file_extension": ".py",
   "mimetype": "text/x-python",
   "name": "python",
   "nbconvert_exporter": "python",
   "pygments_lexer": "ipython3",
   "version": "3.11.5"
  }
 },
 "nbformat": 4,
 "nbformat_minor": 5
}
